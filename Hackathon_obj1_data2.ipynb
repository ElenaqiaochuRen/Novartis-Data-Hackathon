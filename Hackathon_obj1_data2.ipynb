{
 "cells": [
  {
   "cell_type": "code",
   "execution_count": 1,
   "metadata": {},
   "outputs": [],
   "source": [
    "import pandas as pd\n",
    "import numpy as np\n",
    "import datetime as dt\n",
    "pd.set_option('display.max_columns', None)\n",
    "pd.set_option('display.max_rows',None)\n",
    "pd.set_option('float_format', '{:f}'.format)\n"
   ]
  },
  {
   "cell_type": "code",
   "execution_count": 2,
   "metadata": {},
   "outputs": [
    {
     "name": "stderr",
     "output_type": "stream",
     "text": [
      "C:\\Users\\elena\\Anaconda3\\lib\\site-packages\\IPython\\core\\interactiveshell.py:3057: DtypeWarning: Columns (19) have mixed types. Specify dtype option on import or set low_memory=False.\n",
      "  interactivity=interactivity, compiler=compiler, result=result)\n"
     ]
    }
   ],
   "source": [
    "# READING DATA\n",
    "# Diagnose data \n",
    "# DIAG = pd.read_csv(r\"C:\\Users\\elena\\Downloads\\OneDrive_1_10-4-2020\\APLD Raw Data\\DIAG.txt.gz\",sep=\"|\")\n",
    "\n",
    "#Procedure data\n",
    "PX = pd.read_csv(r\"C:\\Users\\elena\\Downloads\\OneDrive_1_10-4-2020\\APLD Raw Data\\PX.txt.gz\",sep=\"|\")\n",
    "\n",
    "# Presecription data\n",
    "RX = pd.read_csv(r\"C:\\Users\\elena\\Downloads\\OneDrive_1_10-4-2020\\APLD Raw Data\\RX.txt.gz\",sep=\"|\")\n",
    "\n",
    "\n",
    "# Diagnosis Code reference\n",
    "BC_SN = pd.read_excel(r\"C:\\Users\\elena\\Downloads\\OneDrive_1_10-4-2020\\BC_SN ICD Code.xlsx\")\n",
    "\n",
    "\n",
    "# Reference for diagnosis, procedure and product\n",
    "# DIAG_refer = pd.read_csv(r\"C:\\Users\\elena\\Downloads\\OneDrive_1_10-4-2020\\APLD Raw Data\\DIAGNOSIS_reference_20200925.txt\",sep='|')\n",
    "Procedure_refer = pd.read_csv(r\"C:\\Users\\elena\\Downloads\\OneDrive_1_10-4-2020\\APLD Raw Data\\PROCEDURE_reference_20200925.txt\",sep='|')\n",
    "\n",
    "# Drug lable \n",
    "drug_label = pd.read_csv(r\"C:\\Users\\elena\\Downloads\\OneDrive_1_10-4-2020\\Drug_table_with_type.csv\",sep='|')\n",
    "drug_label = drug_label.loc[:,\"NDC\":]"
   ]
  },
  {
   "cell_type": "code",
   "execution_count": 3,
   "metadata": {},
   "outputs": [],
   "source": [
    "# Table Joinings\n",
    "PX_merged = PX.merge(Procedure_refer,how=\"left\",on=\"PROCEDURE_CODE\")\n",
    "RX_merged = RX.merge(drug_label,how=\"left\",on=\"NDC\")\n",
    "\n",
    "# Merge DIAGNOSIS_CODE with reference\n",
    "# DIAG_merged = DIAG.merge(BC_SN, how = 'left', left_on='DIAGNOSIS_CODE', right_on='diagnosis_cd').drop(columns=[\"diagnosis_cd\"])"
   ]
  },
  {
   "cell_type": "code",
   "execution_count": 4,
   "metadata": {},
   "outputs": [],
   "source": [
    "# Dealing with the service date\n",
    "def lookup(s):\n",
    "    \"\"\" \n",
    "    This is a faster approach to convert string to datetime object\n",
    "    \"\"\"\n",
    "    dates = {date:pd.to_datetime(date) for date in s.unique()}\n",
    "    return s.apply(lambda v: dates[v])\n",
    "\n",
    "PX_merged['SERVICE_DATE'] = lookup(PX_merged['SERVICE_DATE'])\n",
    "RX_merged['SERVICE_DATE'] = lookup(RX_merged['SERVICE_DATE'])\n",
    "# DIAG_merged['SERVICE_DATE'] = lookup(DIAG_merged['SERVICE_DATE'])"
   ]
  },
  {
   "cell_type": "code",
   "execution_count": 7,
   "metadata": {},
   "outputs": [],
   "source": [
    "PX_merged = PX_merged[['PATIENT_ID','SERVICE_DATE','DIAGNOSIS_CODE','PROCEDURE_CODE','SVC_CRGD_AMT','UNIT_OF_SVC_AMT','PLACE_OF_SERVICE','PAY_TYPE','PROCEDURE_DESCRIPTION','PRC_DOSAGE_AMT']]"
   ]
  },
  {
   "cell_type": "code",
   "execution_count": 8,
   "metadata": {},
   "outputs": [],
   "source": [
    "PX_merged = PX_merged.merge(BC_SN,how=\"left\", left_on='DIAGNOSIS_CODE',right_on ='diagnosis_cd').drop(columns=['diagnosis_cd','DIAGNOSIS_CODE','version','sub_indication_cd'])"
   ]
  },
  {
   "cell_type": "code",
   "execution_count": 9,
   "metadata": {},
   "outputs": [],
   "source": [
    "# Convert the service date to datetime object\n",
    "def get_BC_SN_diff(df):\n",
    "    df = df.sort_values(['PATIENT_ID','SERVICE_DATE'],ascending = (True, True))\n",
    "    SN = df[df['indication_cd']=='SN']\n",
    "    BC = df[df['indication_cd']=='BC']\n",
    "\n",
    "    SN = SN.sort_values(by='SERVICE_DATE').drop_duplicates(subset=['PATIENT_ID'], keep='first')\n",
    "    BC = BC.sort_values(by='SERVICE_DATE').drop_duplicates(subset=['PATIENT_ID'], keep='first')\n",
    "\n",
    "    SN_temp = SN.rename(columns={'SERVICE_DATE':'SN_DIAG_DATE'})[['PATIENT_ID','SN_DIAG_DATE']]\n",
    "    BC_temp = BC.rename(columns={'SERVICE_DATE':'BC_DIAG_DATE'})[['PATIENT_ID','BC_DIAG_DATE']]\n",
    "\n",
    "    # Obtain the mBC classification\n",
    "    temp = SN_temp.merge(BC_temp,how='outer',on='PATIENT_ID')\n",
    "    temp['Diff'] = temp['SN_DIAG_DATE'] - temp['BC_DIAG_DATE']\n",
    "    temp['Diff'] = temp['Diff'].dt.days\n",
    "    df = df.merge(temp,how='left',on='PATIENT_ID')\n",
    "    return df"
   ]
  },
  {
   "cell_type": "code",
   "execution_count": 10,
   "metadata": {},
   "outputs": [],
   "source": [
    "PX_merged = get_BC_SN_diff(PX_merged)"
   ]
  },
  {
   "cell_type": "code",
   "execution_count": 12,
   "metadata": {},
   "outputs": [],
   "source": [
    "# Patient_Date_Class: patient_ID, SERVICE_DATE, class\n",
    "def Get_Patient_Date_Class(df):\n",
    "    Patient_Date_Class = df[['PATIENT_ID','SERVICE_DATE','SN_DIAG_DATE','BC_DIAG_DATE','Diff']]\n",
    "    Patient_Date_Class = Patient_Date_Class.drop_duplicates()\n",
    "    Patient_Date_Class['SERVICE_SN_Diff'] = Patient_Date_Class['SERVICE_DATE']-Patient_Date_Class['SN_DIAG_DATE']\n",
    "    Patient_Date_Class['SERVICE_SN_Diff'] = Patient_Date_Class['SERVICE_SN_Diff'].dt.days\n",
    "\n",
    "    # No BC/SN record: -1\n",
    "    # only have BC record / record before SN_DIAG_DATE: 0\n",
    "    # only have SN record  / -30 <= Diff <=0 / record after SN_DIAG_DATE: 1\n",
    "    # Diff<-30: -2\n",
    "    conditions = [((Patient_Date_Class['SN_DIAG_DATE'].isna()) & (Patient_Date_Class['BC_DIAG_DATE'].isna())),\n",
    "                 ((Patient_Date_Class['SN_DIAG_DATE'].isna()) & (Patient_Date_Class['BC_DIAG_DATE'].notnull())),\n",
    "                 ((Patient_Date_Class['SN_DIAG_DATE'].notnull()) & (Patient_Date_Class['BC_DIAG_DATE'].isna())),\n",
    "                 ((Patient_Date_Class['Diff']>0) & (Patient_Date_Class['SERVICE_SN_Diff']<0)),\n",
    "                  ((Patient_Date_Class['Diff']>0) & (Patient_Date_Class['SERVICE_SN_Diff']>=0)),\n",
    "                 ((Patient_Date_Class['Diff']<=0) & (Patient_Date_Class['Diff']>=-30)),\n",
    "                  (Patient_Date_Class['Diff']<-30)\n",
    "                 ]\n",
    "    choices =[-1,0,1,0,1,1,-2]\n",
    "    Patient_Date_Class['class'] = np.select(conditions,choices,default=5)\n",
    "    return Patient_Date_Class[['PATIENT_ID','SERVICE_DATE','class']]\n",
    "\n",
    "PX_patient_date_class = Get_Patient_Date_Class(PX_merged)"
   ]
  },
  {
   "cell_type": "code",
   "execution_count": 13,
   "metadata": {},
   "outputs": [
    {
     "data": {
      "text/html": [
       "<div>\n",
       "<style scoped>\n",
       "    .dataframe tbody tr th:only-of-type {\n",
       "        vertical-align: middle;\n",
       "    }\n",
       "\n",
       "    .dataframe tbody tr th {\n",
       "        vertical-align: top;\n",
       "    }\n",
       "\n",
       "    .dataframe thead th {\n",
       "        text-align: right;\n",
       "    }\n",
       "</style>\n",
       "<table border=\"1\" class=\"dataframe\">\n",
       "  <thead>\n",
       "    <tr style=\"text-align: right;\">\n",
       "      <th></th>\n",
       "      <th>PATIENT_ID</th>\n",
       "      <th>SERVICE_DATE</th>\n",
       "      <th>class</th>\n",
       "    </tr>\n",
       "  </thead>\n",
       "  <tbody>\n",
       "    <tr>\n",
       "      <th>0</th>\n",
       "      <td>29388541</td>\n",
       "      <td>2017-02-06</td>\n",
       "      <td>0</td>\n",
       "    </tr>\n",
       "    <tr>\n",
       "      <th>2</th>\n",
       "      <td>29388541</td>\n",
       "      <td>2017-02-24</td>\n",
       "      <td>0</td>\n",
       "    </tr>\n",
       "    <tr>\n",
       "      <th>3</th>\n",
       "      <td>29388541</td>\n",
       "      <td>2017-03-07</td>\n",
       "      <td>0</td>\n",
       "    </tr>\n",
       "    <tr>\n",
       "      <th>5</th>\n",
       "      <td>29388541</td>\n",
       "      <td>2017-03-20</td>\n",
       "      <td>0</td>\n",
       "    </tr>\n",
       "    <tr>\n",
       "      <th>6</th>\n",
       "      <td>29388541</td>\n",
       "      <td>2017-03-24</td>\n",
       "      <td>0</td>\n",
       "    </tr>\n",
       "  </tbody>\n",
       "</table>\n",
       "</div>"
      ],
      "text/plain": [
       "   PATIENT_ID SERVICE_DATE  class\n",
       "0    29388541   2017-02-06      0\n",
       "2    29388541   2017-02-24      0\n",
       "3    29388541   2017-03-07      0\n",
       "5    29388541   2017-03-20      0\n",
       "6    29388541   2017-03-24      0"
      ]
     },
     "execution_count": 13,
     "metadata": {},
     "output_type": "execute_result"
    }
   ],
   "source": [
    "PX_patient_date_class.head()"
   ]
  },
  {
   "cell_type": "code",
   "execution_count": 14,
   "metadata": {},
   "outputs": [],
   "source": [
    "PX_merged = PX_merged.merge(PX_patient_date_class,how=\"left\",on=['PATIENT_ID','SERVICE_DATE'])\n",
    "PX_merged = PX_merged.drop(columns=['indication_cd','SN_DIAG_DATE','BC_DIAG_DATE','Diff'])"
   ]
  },
  {
   "cell_type": "code",
   "execution_count": 15,
   "metadata": {},
   "outputs": [],
   "source": [
    "def time_feature(df):\n",
    "    min_dates = df.groupby(['PATIENT_ID'])['SERVICE_DATE'].min()\n",
    "    df['Earliest_DIAG_Date'] = df.apply(lambda row: min_dates.loc[row['PATIENT_ID']], axis=1)\n",
    "\n",
    "    df['Days_Diff'] = df['SERVICE_DATE'] - df['Earliest_DIAG_Date']\n",
    "    df['Week_Diff'] = df['Days_Diff']/np.timedelta64(1,\"W\")\n",
    "    df['Month_Diff'] = df['Days_Diff']/np.timedelta64(1,\"M\")\n",
    "    df['Year_Diff'] = df['Days_Diff']/np.timedelta64(1,'Y')\n",
    "    df['Days_Diff'] = df['Days_Diff'].dt.days\n",
    "\n",
    "    return df"
   ]
  },
  {
   "cell_type": "code",
   "execution_count": 16,
   "metadata": {},
   "outputs": [],
   "source": [
    "PX_merged = time_feature(PX_merged)"
   ]
  },
  {
   "cell_type": "code",
   "execution_count": 17,
   "metadata": {},
   "outputs": [],
   "source": [
    "PX_merged['CHEMOTHERAPY'] = np.where(PX_merged['PROCEDURE_DESCRIPTION'].str.contains(\"CHEMOTHERAPY\"),1,0)\n",
    "PX_merged['CYCLOPHOSPHAMIDE'] = np.where(PX_merged['PROCEDURE_DESCRIPTION'].str.contains(\"CYCLOPHOSPHAMIDE\"),1,0)\n",
    "PX_merged['LYMPH'] = np.where(PX_merged['PROCEDURE_DESCRIPTION'].str.contains(\"LYMPH\"),1,0)\n",
    "PX_merged['GENE'] = np.where(PX_merged['PROCEDURE_DESCRIPTION'].str.contains(\"GENE\"),1,0)\n",
    "PX_merged['IMMUNOHISTOCHEMISTRY'] = np.where(PX_merged['PROCEDURE_DESCRIPTION'].str.contains(\"IMMUNOHISTOCHEMISTRY\"),1,0)\n",
    "PX_merged['IMMUNOCYTOCHEMISTRY'] = np.where(PX_merged['PROCEDURE_DESCRIPTION'].str.contains(\"IMMUNOCYTOCHEMISTRY\"),1,0)\n",
    "PX_merged['IMMUNOASSAY'] = np.where(PX_merged['PROCEDURE_DESCRIPTION'].str.contains(\"IMMUNOASsortSAY\"),1,0)\n",
    "PX_merged['METASTATIC'] = np.where(PX_merged['PROCEDURE_DESCRIPTION'].str.contains(\"METASTATIC\"),1,0)\n",
    "PX_merged['SURGI'] = np.where(PX_merged['PROCEDURE_DESCRIPTION'].str.contains(\"SURGI\"),1,0)\n",
    "PX_merged['MASTECTOMY'] = np.where(PX_merged['PROCEDURE_DESCRIPTION'].str.contains(\"MASTECTOMY\"),1,0)\n",
    "PX_merged['SUCCINYLCHOLINE CHLORIDE'] = np.where(PX_merged['PROCEDURE_DESCRIPTION'].str.contains(\"SUCCINYLCHOLINE CHLORIDE\"),1,0)"
   ]
  },
  {
   "cell_type": "code",
   "execution_count": 18,
   "metadata": {},
   "outputs": [],
   "source": [
    "PX_merged['PRC_DOSAGE_AMT'] = PX_merged.PRC_DOSAGE_AMT.fillna(0)\n",
    "AMT =  pd.DataFrame(PX_merged.groupby(['PATIENT_ID','SERVICE_DATE','PROCEDURE_CODE'])[['SVC_CRGD_AMT','UNIT_OF_SVC_AMT',\"PRC_DOSAGE_AMT\"]].sum())\n",
    "AMT.reset_index(inplace=True)"
   ]
  },
  {
   "cell_type": "code",
   "execution_count": 19,
   "metadata": {},
   "outputs": [],
   "source": [
    "PX_merged = PX_merged.drop(columns=['PROCEDURE_DESCRIPTION','SVC_CRGD_AMT','UNIT_OF_SVC_AMT','PRC_DOSAGE_AMT'])\n",
    "PX_merged = PX_merged.merge(AMT,how='left',on=['PATIENT_ID','SERVICE_DATE','PROCEDURE_CODE'])"
   ]
  },
  {
   "cell_type": "code",
   "execution_count": 28,
   "metadata": {},
   "outputs": [
    {
     "data": {
      "text/html": [
       "<div>\n",
       "<style scoped>\n",
       "    .dataframe tbody tr th:only-of-type {\n",
       "        vertical-align: middle;\n",
       "    }\n",
       "\n",
       "    .dataframe tbody tr th {\n",
       "        vertical-align: top;\n",
       "    }\n",
       "\n",
       "    .dataframe thead th {\n",
       "        text-align: right;\n",
       "    }\n",
       "</style>\n",
       "<table border=\"1\" class=\"dataframe\">\n",
       "  <thead>\n",
       "    <tr style=\"text-align: right;\">\n",
       "      <th></th>\n",
       "      <th>index</th>\n",
       "      <th>PAY_TYPE_MEDICAID</th>\n",
       "      <th>PAY_TYPE_NONE</th>\n",
       "      <th>PAY_TYPE_THIRD PARTY</th>\n",
       "    </tr>\n",
       "  </thead>\n",
       "  <tbody>\n",
       "    <tr>\n",
       "      <th>0</th>\n",
       "      <td>0</td>\n",
       "      <td>0</td>\n",
       "      <td>0</td>\n",
       "      <td>1</td>\n",
       "    </tr>\n",
       "    <tr>\n",
       "      <th>1</th>\n",
       "      <td>1</td>\n",
       "      <td>0</td>\n",
       "      <td>0</td>\n",
       "      <td>1</td>\n",
       "    </tr>\n",
       "    <tr>\n",
       "      <th>2</th>\n",
       "      <td>2</td>\n",
       "      <td>0</td>\n",
       "      <td>0</td>\n",
       "      <td>1</td>\n",
       "    </tr>\n",
       "    <tr>\n",
       "      <th>3</th>\n",
       "      <td>3</td>\n",
       "      <td>0</td>\n",
       "      <td>0</td>\n",
       "      <td>1</td>\n",
       "    </tr>\n",
       "    <tr>\n",
       "      <th>4</th>\n",
       "      <td>4</td>\n",
       "      <td>0</td>\n",
       "      <td>0</td>\n",
       "      <td>1</td>\n",
       "    </tr>\n",
       "  </tbody>\n",
       "</table>\n",
       "</div>"
      ],
      "text/plain": [
       "   index  PAY_TYPE_MEDICAID  PAY_TYPE_NONE  PAY_TYPE_THIRD PARTY\n",
       "0      0                  0              0                     1\n",
       "1      1                  0              0                     1\n",
       "2      2                  0              0                     1\n",
       "3      3                  0              0                     1\n",
       "4      4                  0              0                     1"
      ]
     },
     "execution_count": 28,
     "metadata": {},
     "output_type": "execute_result"
    }
   ],
   "source": [
    "PAY_TYPE_dummies.head()"
   ]
  },
  {
   "cell_type": "code",
   "execution_count": 22,
   "metadata": {},
   "outputs": [],
   "source": [
    "PX_merged['PLACE_OF_SERVICE'] = PX_merged['PLACE_OF_SERVICE'].replace({np.nan: 'NONE'})\n",
    "PX_merged['PAY_TYPE'] = PX_merged['PAY_TYPE'].replace({np.nan:'NONE'})\n",
    "\n",
    "Place_dummies = pd.get_dummies(PX_merged.PLACE_OF_SERVICE, prefix='Place')\n",
    "PAY_TYPE_dummies = pd.get_dummies(PX_merged.PAY_TYPE,prefix='PAY_TYPE')\n",
    "\n",
    "Place_dummies.reset_index(inplace=True)\n",
    "PAY_TYPE_dummies.reset_index(inplace=True)\n",
    "\n",
    "PX_merged.reset_index(inplace=True)"
   ]
  },
  {
   "cell_type": "code",
   "execution_count": 30,
   "metadata": {},
   "outputs": [],
   "source": [
    "PX_merged = PX_merged.merge(Place_dummies,how='left',on=\"index\").merge(PAY_TYPE_dummies,how=\"left\",on=\"index\")"
   ]
  },
  {
   "cell_type": "code",
   "execution_count": 50,
   "metadata": {},
   "outputs": [],
   "source": [
    "# Get number of procedure per patient per day\n",
    "PX_count = pd.DataFrame(PX_merged.groupby(['PATIENT_ID','SERVICE_DATE']).size())\n",
    "PX_count.reset_index(inplace=True)\n",
    "PX_count = PX_count.rename(columns={0:\"PX_count\"})\n",
    "PX_count = PX_count.drop(columns=['index'])"
   ]
  },
  {
   "cell_type": "code",
   "execution_count": 97,
   "metadata": {},
   "outputs": [
    {
     "data": {
      "text/html": [
       "<div>\n",
       "<style scoped>\n",
       "    .dataframe tbody tr th:only-of-type {\n",
       "        vertical-align: middle;\n",
       "    }\n",
       "\n",
       "    .dataframe tbody tr th {\n",
       "        vertical-align: top;\n",
       "    }\n",
       "\n",
       "    .dataframe thead th {\n",
       "        text-align: right;\n",
       "    }\n",
       "</style>\n",
       "<table border=\"1\" class=\"dataframe\">\n",
       "  <thead>\n",
       "    <tr style=\"text-align: right;\">\n",
       "      <th></th>\n",
       "      <th>PATIENT_ID</th>\n",
       "      <th>SERVICE_DATE</th>\n",
       "      <th>PX_count</th>\n",
       "    </tr>\n",
       "  </thead>\n",
       "  <tbody>\n",
       "    <tr>\n",
       "      <th>0</th>\n",
       "      <td>29388541</td>\n",
       "      <td>2017-02-06</td>\n",
       "      <td>2</td>\n",
       "    </tr>\n",
       "    <tr>\n",
       "      <th>1</th>\n",
       "      <td>29388541</td>\n",
       "      <td>2017-02-24</td>\n",
       "      <td>1</td>\n",
       "    </tr>\n",
       "    <tr>\n",
       "      <th>2</th>\n",
       "      <td>29388541</td>\n",
       "      <td>2017-03-07</td>\n",
       "      <td>2</td>\n",
       "    </tr>\n",
       "    <tr>\n",
       "      <th>3</th>\n",
       "      <td>29388541</td>\n",
       "      <td>2017-03-20</td>\n",
       "      <td>1</td>\n",
       "    </tr>\n",
       "    <tr>\n",
       "      <th>4</th>\n",
       "      <td>29388541</td>\n",
       "      <td>2017-03-24</td>\n",
       "      <td>1</td>\n",
       "    </tr>\n",
       "  </tbody>\n",
       "</table>\n",
       "</div>"
      ],
      "text/plain": [
       "   PATIENT_ID SERVICE_DATE  PX_count\n",
       "0    29388541   2017-02-06         2\n",
       "1    29388541   2017-02-24         1\n",
       "2    29388541   2017-03-07         2\n",
       "3    29388541   2017-03-20         1\n",
       "4    29388541   2017-03-24         1"
      ]
     },
     "execution_count": 97,
     "metadata": {},
     "output_type": "execute_result"
    }
   ],
   "source": [
    "PX_count.head()"
   ]
  },
  {
   "cell_type": "code",
   "execution_count": 85,
   "metadata": {},
   "outputs": [],
   "source": [
    "PX_merged['PX_in-between'] = np.where(PX_merged.loc[:,'CHEMOTHERAPY':'SUCCINYLCHOLINE CHLORIDE'].sum(axis=1)==0,1,0)\n",
    "PX_merged['PX_Severe'] = np.where(PX_merged.loc[:,'CHEMOTHERAPY':'METASTATIC'].sum(axis=1)!=0,1,0)\n",
    "PX_merged['PX_light'] = np.where(((PX_merged['PX_in-between']==0) & (PX_merged['PX_Severe']==0)),1,0)"
   ]
  },
  {
   "cell_type": "code",
   "execution_count": 94,
   "metadata": {},
   "outputs": [],
   "source": [
    "PX_temp1 = PX_merged[['PATIENT_ID','SERVICE_DATE','class','Earliest_DIAG_Date','Days_Diff','Week_Diff','Year_Diff']]"
   ]
  },
  {
   "cell_type": "code",
   "execution_count": 91,
   "metadata": {},
   "outputs": [],
   "source": [
    "PX_temp = PX_merged[list(PX_merged.loc[:,'PATIENT_ID':'SERVICE_DATE']) + list(PX_merged.loc[:,'CHEMOTHERAPY':'PX_light'])]"
   ]
  },
  {
   "cell_type": "code",
   "execution_count": 93,
   "metadata": {},
   "outputs": [],
   "source": [
    "PX_temp = pd.DataFrame(PX_temp.groupby(['PATIENT_ID','SERVICE_DATE']).sum())"
   ]
  },
  {
   "cell_type": "code",
   "execution_count": 95,
   "metadata": {},
   "outputs": [],
   "source": [
    "PX_final = PX_temp1.merge(PX_temp,how=\"left\",on=['PATIENT_ID','SERVICE_DATE']).merge(PX_count,how=\"left\",on=['PATIENT_ID','SERVICE_DATE'])"
   ]
  },
  {
   "cell_type": "code",
   "execution_count": 101,
   "metadata": {},
   "outputs": [],
   "source": [
    "PX_final = PX_final.drop_duplicates(subset=['PATIENT_ID','SERVICE_DATE'])"
   ]
  },
  {
   "cell_type": "code",
   "execution_count": 168,
   "metadata": {},
   "outputs": [
    {
     "data": {
      "text/plain": [
       "(1451201, 64)"
      ]
     },
     "execution_count": 168,
     "metadata": {},
     "output_type": "execute_result"
    }
   ],
   "source": [
    "PX_final.shape"
   ]
  },
  {
   "cell_type": "markdown",
   "metadata": {},
   "source": [
    "### Drug info"
   ]
  },
  {
   "cell_type": "code",
   "execution_count": 106,
   "metadata": {},
   "outputs": [],
   "source": [
    "RX_column = ['PATIENT_ID','SERVICE_DATE','NDC','type','REFILL_CODE','DRUG_STRENGTH','DSPNSD_QTY','DAYS_SUPPLY']\n",
    "RX_temp = RX_merged[RX_merged['type']!='OTHER'][RX_column]\n",
    "RX_temp = RX_temp.drop_duplicates()"
   ]
  },
  {
   "cell_type": "code",
   "execution_count": 131,
   "metadata": {},
   "outputs": [],
   "source": [
    "# Get the drug type dummy variables\n",
    "drug_type_dummies =pd.get_dummies(RX_temp.type,prefix='drug_type')\n",
    "drug_type_dummies.reset_index(inplace=True)\n",
    "RX_temp.reset_index(inplace=True)\n",
    "RX_temp = RX_temp.merge(drug_type_dummies,how=\"left\",on=\"index\")"
   ]
  },
  {
   "cell_type": "code",
   "execution_count": 174,
   "metadata": {},
   "outputs": [
    {
     "data": {
      "text/html": [
       "<div>\n",
       "<style scoped>\n",
       "    .dataframe tbody tr th:only-of-type {\n",
       "        vertical-align: middle;\n",
       "    }\n",
       "\n",
       "    .dataframe tbody tr th {\n",
       "        vertical-align: top;\n",
       "    }\n",
       "\n",
       "    .dataframe thead th {\n",
       "        text-align: right;\n",
       "    }\n",
       "</style>\n",
       "<table border=\"1\" class=\"dataframe\">\n",
       "  <thead>\n",
       "    <tr style=\"text-align: right;\">\n",
       "      <th></th>\n",
       "      <th>PATIENT_ID</th>\n",
       "      <th>SERVICE_DATE</th>\n",
       "      <th>New_RX</th>\n",
       "    </tr>\n",
       "  </thead>\n",
       "  <tbody>\n",
       "    <tr>\n",
       "      <th>0</th>\n",
       "      <td>29388541</td>\n",
       "      <td>2017-08-15</td>\n",
       "      <td>1</td>\n",
       "    </tr>\n",
       "    <tr>\n",
       "      <th>1</th>\n",
       "      <td>29388541</td>\n",
       "      <td>2017-11-06</td>\n",
       "      <td>0</td>\n",
       "    </tr>\n",
       "    <tr>\n",
       "      <th>2</th>\n",
       "      <td>29388541</td>\n",
       "      <td>2018-02-07</td>\n",
       "      <td>0</td>\n",
       "    </tr>\n",
       "    <tr>\n",
       "      <th>3</th>\n",
       "      <td>29388541</td>\n",
       "      <td>2018-05-16</td>\n",
       "      <td>0</td>\n",
       "    </tr>\n",
       "    <tr>\n",
       "      <th>4</th>\n",
       "      <td>29388541</td>\n",
       "      <td>2018-08-01</td>\n",
       "      <td>0</td>\n",
       "    </tr>\n",
       "  </tbody>\n",
       "</table>\n",
       "</div>"
      ],
      "text/plain": [
       "   PATIENT_ID SERVICE_DATE  New_RX\n",
       "0    29388541   2017-08-15       1\n",
       "1    29388541   2017-11-06       0\n",
       "2    29388541   2018-02-07       0\n",
       "3    29388541   2018-05-16       0\n",
       "4    29388541   2018-08-01       0"
      ]
     },
     "execution_count": 174,
     "metadata": {},
     "output_type": "execute_result"
    }
   ],
   "source": [
    "New_RX_count.head()"
   ]
  },
  {
   "cell_type": "code",
   "execution_count": 144,
   "metadata": {},
   "outputs": [],
   "source": [
    "# Get the type count per patient per day\n",
    "type_count = RX_temp[list(RX_temp.loc[:,'PATIENT_ID':'SERVICE_DATE'])+list(RX_temp.loc[:,\"drug_type_AFI\":'drug_type_VER'])]\n",
    "type_count = pd.DataFrame(type_count.groupby(['PATIENT_ID','SERVICE_DATE']).sum())\n",
    "type_count.reset_index(inplace=True)"
   ]
  },
  {
   "cell_type": "code",
   "execution_count": 109,
   "metadata": {},
   "outputs": [],
   "source": [
    "# Get the total qty for patient (per drug per day)\n",
    "DRUG_QTY=pd.DataFrame(RX_temp.groupby(['PATIENT_ID','SERVICE_DATE','NDC'])['DSPNSD_QTY'].sum())\n",
    "DRUG_QTY.reset_index(inplace=True)\n",
    "DRUG_QTY = DRUG_QTY.rename(columns={\"DSPNSD_QTY\":\"DRUG_QTY\"})\n",
    "DRUG_QTY = DRUG_QTY.drop_duplicates()\n",
    "\n",
    "drug_qty = (DRUG_QTY.pivot_table(index=['PATIENT_ID','SERVICE_DATE'],columns='NDC', values='DRUG_QTY')\n",
    "       .reset_index()\n",
    "       .rename_axis(None, axis=1))\n",
    "drug_qty = drug_qty.fillna(0)"
   ]
  },
  {
   "cell_type": "code",
   "execution_count": 114,
   "metadata": {},
   "outputs": [],
   "source": [
    "# Get the days supply information \n",
    "NDC_days = RX_temp.drop_duplicates(subset=['PATIENT_ID','SERVICE_DATE','NDC','DAYS_SUPPLY'])\n",
    "days_supply = (NDC_days.pivot_table(index=['PATIENT_ID','SERVICE_DATE'],columns='NDC', values='DAYS_SUPPLY')\n",
    "       .reset_index()\n",
    "       .rename_axis(None, axis=1))\n",
    "days_supply = days_supply.fillna(0)"
   ]
  },
  {
   "cell_type": "code",
   "execution_count": 155,
   "metadata": {},
   "outputs": [],
   "source": [
    "# Calculate the number of new drug prescripted for patient X on day y.\n",
    "RX_temp['New_RX'] = np.where(RX_temp.REFILL_CODE ==0,1,0)\n",
    "New_RX_count = pd.DataFrame(RX_temp.groupby(['PATIENT_ID','SERVICE_DATE'])['New_RX'].sum())\n",
    "New_RX_count.reset_index(inplace=True)"
   ]
  },
  {
   "cell_type": "code",
   "execution_count": 122,
   "metadata": {},
   "outputs": [],
   "source": [
    "# Rename dataframe columns before merging\n",
    "days_supply.columns = days_supply.columns.map(str)\n",
    "drug_qty.columns = drug_qty.columns.map(str)\n",
    "days_supply.columns = 'days_' + days_supply.columns.values\n",
    "drug_qty.columns = 'qty_' + drug_qty.columns.values\n",
    "\n",
    "days_supply = days_supply.rename(columns={\"days_PATIENT_ID\":\"PATIENT_ID\", \"days_SERVICE_DATE\":\"SERVICE_DATE\"})\n",
    "drug_qty = drug_qty.rename(columns={\"qty_PATIENT_ID\":\"PATIENT_ID\",\"qty_SERVICE_DATE\":\"SERVICE_DATE\"})"
   ]
  },
  {
   "cell_type": "code",
   "execution_count": 164,
   "metadata": {},
   "outputs": [],
   "source": [
    "RX_final = type_count.merge(New_RX_count,how=\"left\",on=['PATIENT_ID','SERVICE_DATE']).merge(days_supply,how=\"left\",on=['PATIENT_ID','SERVICE_DATE']).merge(drug_qty,how=\"left\",on=['PATIENT_ID','SERVICE_DATE'])"
   ]
  },
  {
   "cell_type": "code",
   "execution_count": 169,
   "metadata": {},
   "outputs": [],
   "source": [
    "data_final = PX_final.merge(RX_final,how=\"left\",on=['PATIENT_ID','SERVICE_DATE'])"
   ]
  },
  {
   "cell_type": "code",
   "execution_count": 172,
   "metadata": {},
   "outputs": [],
   "source": [
    "data_final.to_csv('final_data_2.csv.gz',sep='|',header=True,index=False)"
   ]
  },
  {
   "cell_type": "code",
   "execution_count": 173,
   "metadata": {},
   "outputs": [
    {
     "data": {
      "text/plain": [
       "Index(['PATIENT_ID', 'SERVICE_DATE', 'class', 'Earliest_DIAG_Date',\n",
       "       'Days_Diff', 'Week_Diff', 'Year_Diff', 'CHEMOTHERAPY',\n",
       "       'CYCLOPHOSPHAMIDE', 'LYMPH',\n",
       "       ...\n",
       "       'qty_68382038306', 'qty_69097031602', 'qty_69097094808',\n",
       "       'qty_69097094903', 'qty_70121146302', 'qty_72205000660',\n",
       "       'qty_72205000792', 'qty_72485020460', 'qty_72485020512',\n",
       "       'qty_89141012301'],\n",
       "      dtype='object', length=279)"
      ]
     },
     "execution_count": 173,
     "metadata": {},
     "output_type": "execute_result"
    }
   ],
   "source": [
    "data_final.columns"
   ]
  },
  {
   "cell_type": "code",
   "execution_count": null,
   "metadata": {},
   "outputs": [],
   "source": []
  }
 ],
 "metadata": {
  "kernelspec": {
   "display_name": "Python 3",
   "language": "python",
   "name": "python3"
  },
  "language_info": {
   "codemirror_mode": {
    "name": "ipython",
    "version": 3
   },
   "file_extension": ".py",
   "mimetype": "text/x-python",
   "name": "python",
   "nbconvert_exporter": "python",
   "pygments_lexer": "ipython3",
   "version": "3.7.3"
  }
 },
 "nbformat": 4,
 "nbformat_minor": 2
}
